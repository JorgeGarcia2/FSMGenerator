{
  "nbformat": 4,
  "nbformat_minor": 0,
  "metadata": {
    "colab": {
      "name": "FixDescription.ipynb",
      "provenance": [],
      "include_colab_link": true
    },
    "kernelspec": {
      "name": "python3",
      "display_name": "Python 3"
    },
    "language_info": {
      "name": "python"
    }
  },
  "cells": [
    {
      "cell_type": "markdown",
      "metadata": {
        "id": "view-in-github",
        "colab_type": "text"
      },
      "source": [
        "<a href=\"https://colab.research.google.com/github/JorgeGarcia2/FSMGenerator/blob/main/FixDescription.ipynb\" target=\"_parent\"><img src=\"https://colab.research.google.com/assets/colab-badge.svg\" alt=\"Open In Colab\"/></a>"
      ]
    },
    {
      "cell_type": "markdown",
      "metadata": {
        "id": "taURIf-zMGIn"
      },
      "source": [
        "Importar las librerias necesarias"
      ]
    },
    {
      "cell_type": "code",
      "metadata": {
        "id": "xvmTaLut_jBV"
      },
      "source": [
        "import os\n",
        "import pandas as pd\n",
        "from openpyxl import load_workbook\n",
        "import re\n"
      ],
      "execution_count": null,
      "outputs": []
    },
    {
      "cell_type": "markdown",
      "metadata": {
        "id": "KCqUtF2pHNSn"
      },
      "source": [
        "# Funciones\n",
        "Cargar las funciones"
      ]
    },
    {
      "cell_type": "code",
      "metadata": {
        "id": "HxHBTxny_1lN"
      },
      "source": [
        "def getFileName():\n",
        "    fileCont = True\n",
        "    # Check if the user wants to continue trying new file names\n",
        "    while(fileCont):\n",
        "        fileCont = False\n",
        "        filePath = \"/wis/\" + input(\"\\nWhich WI do you want to use? \") + \"/\"\n",
        "        \n",
        "        if(os.path.isdir(filePath)):\n",
        "            # Get files in the directory\n",
        "            for file in os.listdir(filePath):\n",
        "\n",
        "                if(re.search(r\"^\\w*\\.xlsm$\", file)):\n",
        "                    fileName = file\n",
        "                    # Ask user if he wants to use the file\n",
        "                    t = input(\"\\n XLSM file found, do you want to use: \"+fileName+\" (Y,N)? \")\n",
        "                    \n",
        "                    if t!=\"n\" and t!=\"N\":\n",
        "\n",
        "                        # If it's going to be used, fill fileCont with a non-empty string\n",
        "                        print(f\"\\nFile {fileName} will be used!\\n\\n\")\n",
        "                        fileCont = True\n",
        "                        break\n",
        "                    else:\n",
        "                        # else: fileName = \"./\"\n",
        "                        print(\"File not used!\")\n",
        "        else:\n",
        "            print(\"The specified path was not found\")\n",
        "        \n",
        "        # If the program does not find the file, ask to try again\n",
        "        if (fileCont == False):\n",
        "            t = input(\"\\nDo you want to try again (Y/N)? \")\n",
        "            if (t == \"N\" or t == \"n\"):\n",
        "                fileName = \"\"\n",
        "                fileCont = False\n",
        "            else: fileCont = True\n",
        "        else: fileCont = False\n",
        "    return fileName, filePath\n",
        "\n"
      ],
      "execution_count": null,
      "outputs": []
    },
    {
      "cell_type": "code",
      "metadata": {
        "id": "DAJtCHqWH9aX"
      },
      "source": [
        "def getDescription(fullPath):\n",
        "    description = \"\"\n",
        "    report =\"\"           \n",
        "\n",
        "    book = load_workbook(fullPath + \".xlsm\", keep_vba=True)\n",
        "    excelFile = pd.read_excel(fullPath + \".xlsm\", engine=\"openpyxl\", sheet_name=None)\n",
        "    sheet2Name = list(excelFile.keys())[1]\n",
        "    for nRow in  range(1, len(excelFile[sheet2Name].index)):\n",
        "        description = excelFile[sheet2Name].iat[nRow,4]\n",
        "        report += f\"{' '*30} Descripcion {nRow}\\n\"\n",
        "        report += \"-\"*100 + \"\\n\"\n",
        "        report += excelFile[sheet2Name].iat[nRow,4] + \"\\n\"\n",
        "        report += \"-\"*100 + \"\\n\"\n",
        "        newDescription = fixDescription(description)\n",
        "        book.worksheets[1].cell(2+nRow,5).value = newDescription\n",
        "        report += newDescription + \"\\n\"\n",
        "        report += \"_\"*100 + \"\\n\"\n",
        "    fixedFile = fullPath + \"_fixed.xlsm\"\n",
        "    book.save(fixedFile)\n",
        "    print(f\"\\nSUCCESS: Fixed file {fixedFile} created\")\n",
        "\n",
        "    return report"
      ],
      "execution_count": null,
      "outputs": []
    },
    {
      "cell_type": "code",
      "metadata": {
        "id": "1hN-H3PSABaY"
      },
      "source": [
        "def fixDescription(desc):\n",
        "    regexLines = r\"(((o|-|•|\\*)\\s{1})*\\w+.*)\" \n",
        "    # Formar lista de lineas no vacias\n",
        "    linest = re.findall(regexLines, desc)\n",
        "    lines = []\n",
        "    for line in linest:\n",
        "        if line[0] != '_x000d_':\n",
        "            lines.append(list(line))\n",
        "    \n",
        "    newDesc = \"\"\n",
        "    for nLine in range(len(lines)):\n",
        "\n",
        "        #lines[nLine][0] = re.sub(r\"((^(o|-|•|\\*)\\s{1}))\", \". \", lines[nLine][0]) # Sustituir viñetas \"o, -, *, •\" por \". \"\n",
        "        IsStep = re.search(r\"^\\d\", lines[nLine][0]) # Determina si se trata de un Step\n",
        "        # Si la primera linea es un step, agrega un header por default y concatena en la siguiente linea el step\n",
        "        if (nLine == 0): \n",
        "            if (IsStep):\n",
        "                #lines[nLine] = re.sub(r\"(\\s*>\\s*)\", \"-\", lines[nLine]) # Quitar caracteres especiales\n",
        "                newDesc += \"Pasos,\\n\" + lines[nLine][0]\n",
        "            # De lo contrario deja el Header en la primera linea\n",
        "            else:   \n",
        "                    newDesc += lines[nLine][0]\n",
        "                    #newDesc += \"Pasos,\\n1 \" + lines[nLine][0]\n",
        "\n",
        "        elif(IsStep):\n",
        "            newDesc += \"\\n\" + lines[nLine][0]\n",
        "        else: newDesc += \", \" + lines[nLine][0]\n",
        "\n",
        "    return newDesc"
      ],
      "execution_count": 35,
      "outputs": []
    },
    {
      "cell_type": "markdown",
      "metadata": {
        "id": "ULZrgK3rMxBO"
      },
      "source": [
        "Main"
      ]
    },
    {
      "cell_type": "code",
      "metadata": {
        "colab": {
          "base_uri": "https://localhost:8080/"
        },
        "id": "Q8YpM3wCAH5S",
        "outputId": "6c72901d-3e3c-47f2-8bac-2f678ddbf6d8"
      },
      "source": [
        "fileName, filePath = getFileName()\n",
        "if fileName != \"\":\n",
        "    fileName_NE = fileName.split(\".\")[0]\n",
        "    textReport = getDescription(filePath + fileName_NE)\n",
        "else:\n",
        "    print(\"No File, exiting the program\")"
      ],
      "execution_count": 37,
      "outputs": [
        {
          "output_type": "stream",
          "text": [
            "\n",
            "Which WI do you want to use? 3285\n",
            "\n",
            " XLSM file found, do you want to use: PR413_MD8_D3285_PruebasdeSistema_Ciclo01.xlsm (Y,N)? \n",
            "\n",
            "File PR413_MD8_D3285_PruebasdeSistema_Ciclo01.xlsm will be used!\n",
            "\n",
            "\n"
          ],
          "name": "stdout"
        },
        {
          "output_type": "stream",
          "text": [
            "/usr/local/lib/python3.7/dist-packages/openpyxl/reader/worksheet.py:322: UserWarning: Data Validation extension is not supported and will be removed\n",
            "  warn(msg)\n"
          ],
          "name": "stderr"
        },
        {
          "output_type": "stream",
          "text": [
            "\n",
            "SUCCESS: Fixed file /wis/3285/PR413_MD8_D3285_PruebasdeSistema_Ciclo01_fixed.xlsm created\n"
          ],
          "name": "stdout"
        },
        {
          "output_type": "stream",
          "text": [
            "/usr/local/lib/python3.7/dist-packages/openpyxl/comments/shape_writer.py:75: FutureWarning: The behavior of this method will change in future versions. Use specific 'len(elem)' or 'elem is not None' test instead.\n",
            "  if not shape_types:\n"
          ],
          "name": "stderr"
        }
      ]
    }
  ]
}